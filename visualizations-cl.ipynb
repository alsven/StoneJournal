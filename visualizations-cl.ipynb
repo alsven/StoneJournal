{
 "cells": [
  {
   "cell_type": "markdown",
   "metadata": {},
   "source": [
    "## Word Frequency Visualizations\n",
    "March 05, 2021\n",
    "\n",
    "### Notebook introduction\n",
    "This notebook creates visualizations from data in .csv files that are loaded in as Pandas dataframes. The visualizations are made using the Seaborn package in Python. Each .csv file contains word frequency data (how many times certain words appeared) by issue month and year. To make the data more legible I combined all yearly data together for the visualizations.\n"
   ]
  },
  {
   "cell_type": "code",
   "execution_count": null,
   "metadata": {},
   "outputs": [],
   "source": [
    "import pandas\n",
    "import matplotlib.pyplot as plt\n",
    "import seaborn as sns"
   ]
  },
  {
   "cell_type": "markdown",
   "metadata": {},
   "source": [
    "### Creating data for visualizations\n",
    "These visualizations use .csv files generated from the results from the word frequency searches."
   ]
  },
  {
   "cell_type": "code",
   "execution_count": null,
   "metadata": {},
   "outputs": [],
   "source": [
    "#importing safety csv into pandas dataframe\n",
    "dfsafe = pandas.read_csv(\"csv/WFREQ_safety-012321.csv\", sep=',', encoding='utf8')\n",
    "dfsafe.head()"
   ]
  },
  {
   "cell_type": "code",
   "execution_count": null,
   "metadata": {},
   "outputs": [],
   "source": [
    "#turning a year_month format into only year\n",
    "dfsafe['year'] = dfsafe['yr_m'].str[:4]\n",
    "dfsafe['year'].head() #printing out first five instances to test if it is working"
   ]
  },
  {
   "cell_type": "code",
   "execution_count": null,
   "metadata": {},
   "outputs": [],
   "source": [
    "#I had to do this step because I wanted my legend to provide the word rather than\n",
    "#\"word_n,\" my heading for normalized data in my spreadsheet\n",
    "dfsafe['Safety'] = dfsafe['safety_n']\n",
    "dfsafe['Safety'].head()"
   ]
  },
  {
   "cell_type": "code",
   "execution_count": null,
   "metadata": {},
   "outputs": [],
   "source": [
    "#grouping the data for a word by year rather than year/month\n",
    "safetyval_year = dfsafe[['Safety', 'year']].groupby('year').sum()\n",
    "safetyval_year.head()"
   ]
  },
  {
   "cell_type": "markdown",
   "metadata": {},
   "source": [
    "### Create Visualizations"
   ]
  },
  {
   "cell_type": "code",
   "execution_count": null,
   "metadata": {},
   "outputs": [],
   "source": [
    "#make line graph \n",
    "fig, ax = plt.subplots(figsize=(18,6))\n",
    "\n",
    "sns.lineplot(data=safetyval_year, palette='viridis').set_title('Use of \"Safety\" Over Time')\n",
    "\n",
    "plt.xlabel('Year')\n",
    "plt.ylabel('Number of words per 1000')\n",
    "\n",
    "ax.spines['top'].set_visible(False)\n",
    "ax.spines[\"bottom\"].set_visible(True)\n",
    "ax.spines[\"right\"].set_visible(False)\n",
    "ax.spines[\"left\"].set_visible(True)\n",
    "\n",
    "\n",
    "\n",
    "ax.legend().set_visible(True)"
   ]
  },
  {
   "cell_type": "code",
   "execution_count": null,
   "metadata": {},
   "outputs": [],
   "source": []
  }
 ],
 "metadata": {
  "kernelspec": {
   "display_name": "Python 3",
   "language": "python",
   "name": "python3"
  },
  "language_info": {
   "codemirror_mode": {
    "name": "ipython",
    "version": 3
   },
   "file_extension": ".py",
   "mimetype": "text/x-python",
   "name": "python",
   "nbconvert_exporter": "python",
   "pygments_lexer": "ipython3",
   "version": "3.8.3"
  }
 },
 "nbformat": 4,
 "nbformat_minor": 4
}
