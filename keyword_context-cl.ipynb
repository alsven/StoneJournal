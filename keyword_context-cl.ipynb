{
 "cells": [
  {
   "cell_type": "markdown",
   "metadata": {},
   "source": [
    "# Keywords in Context\n",
    "March 25, 2021"
   ]
  },
  {
   "cell_type": "markdown",
   "metadata": {},
   "source": [
    "## Notebook introduction\n",
    "This notebook uses Python's Natural Language Toolkit (NLTK) to search multiple text documents within a folder for a single word. NLTK's concordance function pulls up each instance of the word as well as 30 characters on either side to give a sense of how the word is being used."
   ]
  },
  {
   "cell_type": "code",
   "execution_count": null,
   "metadata": {},
   "outputs": [],
   "source": [
    "import nltk\n",
    "from nltk import word_tokenize\n",
    "import os\n",
    "import glob"
   ]
  },
  {
   "cell_type": "markdown",
   "metadata": {},
   "source": [
    "#### Direct Python to the folder with the texts"
   ]
  },
  {
   "cell_type": "code",
   "execution_count": null,
   "metadata": {},
   "outputs": [],
   "source": [
    "filename_list = glob.glob(\"data/*.txt\")\n",
    "len(filename_list)"
   ]
  },
  {
   "cell_type": "code",
   "execution_count": null,
   "metadata": {},
   "outputs": [],
   "source": [
    "filename_list.sort() #sorting the list -- the file names in my folder are chronological\n",
    "print(filename_list[0:10]) #testing to see if the process was successful by printing the first 10 file names"
   ]
  },
  {
   "cell_type": "markdown",
   "metadata": {},
   "source": [
    "#### Create a function using NLTK concordance tools"
   ]
  },
  {
   "cell_type": "code",
   "execution_count": null,
   "metadata": {},
   "outputs": [],
   "source": [
    "def text_concordance(word):\n",
    "    \"\"\"\n",
    "    This function takes a filename containing text and a word to examine,\n",
    "    and outputs each occurrence of that word in the text with its immediate context\n",
    "    \n",
    "    Input: filename and path, word\n",
    "    Output: file being searched -for ID purposes- and each occurrence of the\n",
    "    searched for word and approximately 30 characters on either side of the word.\n",
    "    \"\"\"\n",
    "    \n",
    "    for filename in filename_list:\n",
    "        with open(filename) as file:\n",
    "            file_contents = file.read()\n",
    "            file.close()\n",
    "        issue_lc = file_contents.lower() #making the text lower case so it pulls up all instances\n",
    "        \n",
    "        tokens = word_tokenize(issue_lc) #taking advantage of the tokenizing function within NLTK\n",
    "    \n",
    "        tokens_nltk = nltk.Text(tokens) \n",
    "    \n",
    "        print(filename) #printing the filename for ID purposes\n",
    "        \n",
    "        kwic_result = tokens_nltk.concordance(word)\n",
    "        \n",
    "        print(kwic_result)"
   ]
  },
  {
   "cell_type": "markdown",
   "metadata": {},
   "source": [
    "Example of running the function:"
   ]
  },
  {
   "cell_type": "code",
   "execution_count": null,
   "metadata": {},
   "outputs": [],
   "source": [
    "text_concordance(\"safety\")"
   ]
  },
  {
   "cell_type": "code",
   "execution_count": null,
   "metadata": {},
   "outputs": [],
   "source": []
  }
 ],
 "metadata": {
  "kernelspec": {
   "display_name": "Python 3",
   "language": "python",
   "name": "python3"
  },
  "language_info": {
   "codemirror_mode": {
    "name": "ipython",
    "version": 3
   },
   "file_extension": ".py",
   "mimetype": "text/x-python",
   "name": "python",
   "nbconvert_exporter": "python",
   "pygments_lexer": "ipython3",
   "version": "3.8.3"
  }
 },
 "nbformat": 4,
 "nbformat_minor": 4
}
